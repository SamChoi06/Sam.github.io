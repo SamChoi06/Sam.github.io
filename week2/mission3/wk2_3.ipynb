{
 "cells": [
  {
   "cell_type": "markdown",
   "id": "e5da5fea",
   "metadata": {},
   "source": [
    "# 任務3: 修理點火系統\n",
    "\n",
    "任務介紹: 點火系統的接收信號系統的接收器出現亂碼，不能接收發射中心的信號 \n",
    "\n",
    "收集點火系統中不同顏色的接收器，放置到適當的位置，讓基地可以收到點火系統的信號，為點火程序提供足夠的資訊吧!"
   ]
  },
  {
   "cell_type": "markdown",
   "id": "bac3c4b1",
   "metadata": {},
   "source": [
    "# 步驟1: 收集4種信號收集器\n",
    "\n",
    "控制你的 Agent 機械人，前往發射系統附近的信號收集器儲存位置，獲取4種不同顏色的信號收集器吧!\n",
    "\n",
    "### 在這裏會使用到的更多程式碼\n",
    "\n",
    "往不同方向前進: ```agent.move(\"direction\")```, ```direction```為6個不同的行走方向，包括︰```forward```, ```back```, ```left```, ```right```, ```up```, ```down```\n",
    "\n",
    "轉左或轉右: ```agent.turn(\"left\")``` 或 ```agent.turn(\"right\")```\n",
    "\n",
    "在機械人附近拾起信號發射器: ```pickReceiver(\"direction\")```, ```direction```為6個不同的方向，包括︰```forward```, ```back```, ```left```, ```right```, ```up```, ```down```\n",
    "\n",
    "**按「開始」嘗試效果吧!以下的程式碼將不能更改。**"
   ]
  },
  {
   "cell_type": "code",
   "execution_count": null,
   "id": "2c93c146",
   "metadata": {
    "minecraft": {
     "closeCodeBuilderOnRun": true,
     "hidden": false,
     "overridePython": "from minecraft import enums\r\nfrom minecraft.location import as_loc\r\n\r\ndef getCardinalDirection(direction: enums.Direction):\r\n  if (direction == 'up'): \r\n    return as_loc(0, 1, 0)\r\n  if (direction == 'down'): \r\n    return as_loc(0, -1, 0)\r\n\r\n  actionDirection = 180 + agent.rotation\r\n  if direction == 'forward':\r\n    pass\r\n  elif direction == 'back':\r\n    actionDirection += 180\r\n    pass\r\n  elif direction == 'left':\r\n    actionDirection += 270\r\n    pass\r\n  elif direction == 'right':\r\n    actionDirection += 90\r\n    pass\r\n  \r\n  actionDirection = (actionDirection % 360) - 180\r\n  \r\n  if actionDirection == -180.0:\r\n    return as_loc(0, 0, -1)\r\n  elif actionDirection == -90.0:\r\n    return as_loc(1, 0, 0)\r\n  elif actionDirection == 0.0:\r\n    return as_loc(0, 0, 1)\r\n  elif actionDirection == 90.0:\r\n    return as_loc(-1, 0, 0)\r\n\r\ndef checkBlockFromAgent(block, direction: enums.Direction):\r\n  checkLoc = agent.position.__add__(getCardinalDirection(direction))\r\n  return world.is_block(checkLoc, block)\r\n\r\ndef pickReceiver(direction: enums.Direction):\r\n  if checkBlockFromAgent('red_concrete', direction):\r\n    agent.destroy(direction)\r\n    \r\n    count = 0\r\n    if agent.get_item(1) == 'concrete':\r\n      count = agent.get_item_count(1)\r\n    \r\n    agent.give(('concrete', 14, \"\"), count + 1, 1)\r\n\r\n  if checkBlockFromAgent('blue_concrete', direction):\r\n    agent.destroy(direction)\r\n    \r\n    count = 0\r\n    if agent.get_item(2) == 'concrete':\r\n      count = agent.get_item_count(2)\r\n    \r\n    agent.give(('concrete', 11, \"\"), count + 1, 2)\r\n\r\n  if checkBlockFromAgent('green_concrete', direction):\r\n    agent.destroy(direction)\r\n    \r\n    count = 0\r\n    if agent.get_item(3) == 'concrete':\r\n      count = agent.get_item_count(3)\r\n    \r\n    agent.give(('concrete', 13, \"\"), count + 1, 3)\r\n\r\n  if checkBlockFromAgent('yellow_concrete', direction):\r\n    agent.destroy(direction)\r\n    \r\n    count = 0\r\n    if agent.get_item(4) == 'concrete':\r\n      count = agent.get_item_count(4)\r\n    \r\n    agent.give(('concrete', 4, \"\"), count + 1, 4)\r\n\r\ndef canPlaceReceiver(slot: int):\r\n  if (agent.get_item(slot) == 'concrete'):\r\n    if (agent.get_item_count(slot) > 0):\r\n      return True\r\n    else:\r\n      return False\r\n  else:\r\n    return False\r\n\r\ndef placeReceiver(color: str, direction: enums.Direction):\r\n  if color == 'red':\r\n    if canPlaceReceiver(1):\r\n      agent.place(1, direction)\r\n    else:\r\n      player.whisper('I don\\'t have red receiver to place!')\r\n  elif color == 'blue':\r\n    if canPlaceReceiver(2):\r\n      agent.place(2, direction)\r\n    else:\r\n      player.whisper('I don\\'t have blue receiver to place!')\r\n  elif color == 'green':\r\n    if canPlaceReceiver(3):\r\n      agent.place(3, direction)\r\n    else:\r\n      player.whisper('I don\\'t have green receiver to place!')\r\n  elif color == 'yellow':\r\n    if canPlaceReceiver(4):\r\n      agent.place(4, direction)\r\n    else:\r\n      player.whisper('I don\\'t have yellow receiver to place!')\r\n  else:\r\n    raise ValueError('Invalid color')\r\n@user-code",
     "readonly": true
    }
   },
   "outputs": [],
   "source": [
    "pickReceiver('back')"
   ]
  },
  {
   "cell_type": "markdown",
   "id": "a0d8b89b",
   "metadata": {},
   "source": [
    "# 步驟2: 組裝信號收集器\n",
    "\n",
    "將4種不同顏色的信號收集器，然後按照旁邊的顏色指引，組裝收集信號需要的顏色代碼組合吧!\n",
    "\n",
    "### 在這裏會使用到的更多程式碼\n",
    "放置發射信號: ```placeReceiver(\"color\", \"direction\")```\n",
    "\n",
    "```color```為4個不同顏色，包括```red```, ```yellow```, ```green```, ```blue```\n",
    "\n",
    "```direction```為6個不同的方向，包括︰```forward```, ```back```, ```left```, ```right```, ```up```, ```down```\n",
    "\n",
    "**你可以自由更改以下的程式碼，完成編程後才按「開始」，嘗試你的程式嗎吧!**"
   ]
  },
  {
   "cell_type": "code",
   "execution_count": null,
   "id": "857ad53a",
   "metadata": {
    "minecraft": {
     "closeCodeBuilderOnRun": true,
     "hidden": false,
     "overridePython": "from minecraft import enums\r\nfrom minecraft.location import as_loc\r\n\r\ndef getCardinalDirection(direction: enums.Direction):\r\n  if (direction == 'up'): \r\n    return as_loc(0, 1, 0)\r\n  if (direction == 'down'): \r\n    return as_loc(0, -1, 0)\r\n\r\n  actionDirection = 180 + agent.rotation\r\n  if direction == 'forward':\r\n    pass\r\n  elif direction == 'back':\r\n    actionDirection += 180\r\n    pass\r\n  elif direction == 'left':\r\n    actionDirection += 270\r\n    pass\r\n  elif direction == 'right':\r\n    actionDirection += 90\r\n    pass\r\n  \r\n  actionDirection = (actionDirection % 360) - 180\r\n  \r\n  if actionDirection == -180.0:\r\n    return as_loc(0, 0, -1)\r\n  elif actionDirection == -90.0:\r\n    return as_loc(1, 0, 0)\r\n  elif actionDirection == 0.0:\r\n    return as_loc(0, 0, 1)\r\n  elif actionDirection == 90.0:\r\n    return as_loc(-1, 0, 0)\r\n\r\ndef checkBlockFromAgent(block, direction: enums.Direction):\r\n  checkLoc = agent.position.__add__(getCardinalDirection(direction))\r\n  return world.is_block(checkLoc, block)\r\n\r\ndef pickReceiver(direction: enums.Direction):\r\n  if checkBlockFromAgent('red_concrete', direction):\r\n    agent.destroy(direction)\r\n    \r\n    count = 0\r\n    if agent.get_item(1) == 'concrete':\r\n      count = agent.get_item_count(1)\r\n    \r\n    agent.give(('concrete', 14, \"\"), count + 1, 1)\r\n\r\n  if checkBlockFromAgent('blue_concrete', direction):\r\n    agent.destroy(direction)\r\n    \r\n    count = 0\r\n    if agent.get_item(2) == 'concrete':\r\n      count = agent.get_item_count(2)\r\n    \r\n    agent.give(('concrete', 11, \"\"), count + 1, 2)\r\n\r\n  if checkBlockFromAgent('green_concrete', direction):\r\n    agent.destroy(direction)\r\n    \r\n    count = 0\r\n    if agent.get_item(3) == 'concrete':\r\n      count = agent.get_item_count(3)\r\n    \r\n    agent.give(('concrete', 13, \"\"), count + 1, 3)\r\n\r\n  if checkBlockFromAgent('yellow_concrete', direction):\r\n    agent.destroy(direction)\r\n    \r\n    count = 0\r\n    if agent.get_item(4) == 'concrete':\r\n      count = agent.get_item_count(4)\r\n    \r\n    agent.give(('concrete', 4, \"\"), count + 1, 4)\r\n\r\ndef canPlaceReceiver(slot: int):\r\n  if (agent.get_item(slot) == 'concrete'):\r\n    if (agent.get_item_count(slot) > 0):\r\n      return True\r\n    else:\r\n      return False\r\n  else:\r\n    return False\r\n\r\ndef placeReceiver(color: str, direction: enums.Direction):\r\n  if color == 'red':\r\n    if canPlaceReceiver(1):\r\n      agent.place(1, direction)\r\n    else:\r\n      player.whisper('I don\\'t have red receiver to place!')\r\n  elif color == 'blue':\r\n    if canPlaceReceiver(2):\r\n      agent.place(2, direction)\r\n    else:\r\n      player.whisper('I don\\'t have blue receiver to place!')\r\n  elif color == 'green':\r\n    if canPlaceReceiver(3):\r\n      agent.place(3, direction)\r\n    else:\r\n      player.whisper('I don\\'t have green receiver to place!')\r\n  elif color == 'yellow':\r\n    if canPlaceReceiver(4):\r\n      agent.place(4, direction)\r\n    else:\r\n      player.whisper('I don\\'t have yellow receiver to place!')\r\n  else:\r\n    raise ValueError('Invalid color')\r\n@user-code"
    }
   },
   "outputs": [],
   "source": [
    "placeReceiver('red', 'forward')"
   ]
  }
 ],
 "metadata": {
  "kernelspec": {
   "display_name": "Python 3 (ipykernel)",
   "language": "python",
   "name": "python3"
  },
  "language_info": {
   "codemirror_mode": {
    "name": "ipython",
    "version": 3
   },
   "file_extension": ".py",
   "mimetype": "text/x-python",
   "name": "python",
   "nbconvert_exporter": "python",
   "pygments_lexer": "ipython3",
   "version": "3.9.1"
  },
  "minecraft": {
   "description": "Normal Task",
   "page_id": "1.0",
   "page_name": "Normal Task",
   "style": "minecraft.css"
  }
 },
 "nbformat": 4,
 "nbformat_minor": 5
}

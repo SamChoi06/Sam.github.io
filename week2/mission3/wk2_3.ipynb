{
 "cells": [
  {
   "cell_type": "markdown",
   "id": "e5da5fea",
   "metadata": {},
   "source": [
    "# 任務3: 修理點火系統\n",
    "\n",
    "任務介紹: 點火系統的接收信號系統的接收器出現亂碼，不能接收發射中心的信號 \n",
    "\n",
    "收集點火系統中不同顏色的接收器，放置到適當的位置，讓基地可以收到點火系統的信號，為點火程序提供足夠的資訊吧!"
   ]
  },
  {
   "cell_type": "markdown",
   "id": "bac3c4b1",
   "metadata": {},
   "source": [
    "# 步驟1: 收集4種信號收集器\n",
    "\n",
    "控制你的 Agent 機械人，前往發射系統附近的信號收集器儲存位置，獲取4種不同顏色的信號收集器吧!\n",
    "\n",
    "### 在這裏會使用到的更多程式碼\n",
    "\n",
    "往不同方向前進: ```agent.move(\"direction\")```, ```direction```為6個不同的行走方向，包括︰```forward```, ```back```, ```left```, ```right```, ```up```, ```down```\n",
    "\n",
    "轉左或轉右: ```agent.turn(\"left\")``` 或 ```agent.turn(\"right\")```\n",
    "\n",
    "在機械人附近拾起信號發射器: ```pickReceiver(\"direction\")```, ```direction```為6個不同的方向，包括︰```forward```, ```back```, ```left```, ```right```, ```up```, ```down```\n",
    "\n",
    "**按「開始」嘗試效果吧!以下的程式碼將不能更改。**"
   ]
  },
  {
   "cell_type": "code",
   "execution_count": null,
   "id": "2c93c146",
   "metadata": {
    "minecraft": {
     "closeCodeBuilderOnRun": true,
     "hidden": false,
     "overridePython": "from minecraft import enums\nfrom minecraft.location import as_loc\n\ndef getCardinalDirection(direction: enums.Direction):\n  if (direction == 'up'): \n    return as_loc(0, 1, 0)\n  if (direction == 'down'): \n    return as_loc(0, -1, 0)\n\n  actionDirection = 180 + agent.rotation\n  if direction == 'forward':\n    pass\n  elif direction == 'back':\n    actionDirection += 180\n    pass\n  elif direction == 'left':\n    actionDirection += 270\n    pass\n  elif direction == 'right':\n    actionDirection += 90\n    pass\n  \n  actionDirection = (actionDirection % 360) - 180\n  \n  if actionDirection == -180.0:\n    return as_loc(0, 0, -1)\n  elif actionDirection == -90.0:\n    return as_loc(1, 0, 0)\n  elif actionDirection == 0.0:\n    return as_loc(0, 0, 1)\n  elif actionDirection == 90.0:\n    return as_loc(-1, 0, 0)\n\ndef checkBlockFromAgent(block, direction: enums.Direction):\n  checkLoc = agent.position.__add__(getCardinalDirection(direction))\n  return world.is_block(checkLoc, block)\n\ndef pickReceiver(direction: enums.Direction):\n  if checkBlockFromAgent('redstone_block', direction):\n    agent.destroy(direction)\n    \n    count = 0\n    if agent.get_item(1) == 'redstone_block':\n      count = agent.get_item_count(1)\n    \n    agent.give(('redstone_block'), count + 1, 1)\n\n  if checkBlockFromAgent('lapis_block', direction):\n    agent.destroy(direction)\n    \n    count = 0\n    if agent.get_item(2) == 'lapis_block':\n      count = agent.get_item_count(2)\n    \n    agent.give(('lapis_block'), count + 1, 2)\n\n  if checkBlockFromAgent('emerald_block', direction):\n    agent.destroy(direction)\n    \n    count = 0\n    if agent.get_item(3) == 'emerald_block':\n      count = agent.get_item_count(3)\n    \n    agent.give(('emerald_block', 13, \"\"), count + 1, 3)\n\n  if checkBlockFromAgent('gold_block', direction):\n    agent.destroy(direction)\n    \n    count = 0\n    if agent.get_item(4) == 'gold_block':\n      count = agent.get_item_count(4)\n    \n    agent.give('gold_block', count + 1, 4)\n\ndef placeReceiver(color: str, direction: enums.Direction):\n  if color == 'redstone_block':\n    if agent.get_item(1) == 'redstone_block':\n      agent.place(1, direction)\n    else:\n      player.whisper('I don\\'t have red receiver to place!')\n  elif color == 'lapis_block':\n    if agent.get_item(2) == 'lapis_block':\n      agent.place(2, direction)\n    else:\n      player.whisper('I don\\'t have blue receiver to place!')\n  elif color == 'emerald_block':\n    if agent.get_item(3) == 'emerald_block':\n      agent.place(3, direction)\n    else:\n      player.whisper('I don\\'t have green receiver to place!')\n  elif color == 'gold_block':\n    if agent.get_item(4) == 'gold_block':\n      agent.place(4, direction)\n    else:\n      player.whisper('I don\\'t have yellow receiver to place!')\n  else:\n    raise ValueError('Invalid color')\n  \n@user-code",
     "readonly": true
    }
   },
   "outputs": [],
   "source": [
    "pickReceiver('back')"
   ]
  },
  {
   "cell_type": "markdown",
   "id": "a0d8b89b",
   "metadata": {},
   "source": [
    "# 步驟2: 組裝信號收集器\n",
    "\n",
    "將4種不同顏色的信號收集器，然後按照旁邊的顏色指引，組裝收集信號需要的顏色代碼組合吧!\n",
    "\n",
    "### 在這裏會使用到的更多程式碼\n",
    "放置發射信號: ```placeReceiver(\"color\", \"direction\")```\n",
    "\n",
    "```color```為4個不同顏色，包括```red```, ```yellow```, ```green```, ```blue```\n",
    "\n",
    "```direction```為6個不同的方向，包括︰```forward```, ```back```, ```left```, ```right```, ```up```, ```down```\n",
    "\n",
    "**你可以自由更改以下的程式碼，完成編程後才按「開始」，嘗試你的程式嗎吧!**"
   ]
  },
  {
   "cell_type": "code",
   "execution_count": null,
   "id": "857ad53a",
   "metadata": {
    "minecraft": {
     "closeCodeBuilderOnRun": true,
     "hidden": false,
     "overridePython": "from minecraft import enums\nfrom minecraft.location import as_loc\n\ndef getCardinalDirection(direction: enums.Direction):\n  if (direction == 'up'): \n    return as_loc(0, 1, 0)\n  if (direction == 'down'): \n    return as_loc(0, -1, 0)\n\n  actionDirection = 180 + agent.rotation\n  if direction == 'forward':\n    pass\n  elif direction == 'back':\n    actionDirection += 180\n    pass\n  elif direction == 'left':\n    actionDirection += 270\n    pass\n  elif direction == 'right':\n    actionDirection += 90\n    pass\n  \n  actionDirection = (actionDirection % 360) - 180\n  \n  if actionDirection == -180.0:\n    return as_loc(0, 0, -1)\n  elif actionDirection == -90.0:\n    return as_loc(1, 0, 0)\n  elif actionDirection == 0.0:\n    return as_loc(0, 0, 1)\n  elif actionDirection == 90.0:\n    return as_loc(-1, 0, 0)\n\ndef checkBlockFromAgent(block, direction: enums.Direction):\n  checkLoc = agent.position.__add__(getCardinalDirection(direction))\n  return world.is_block(checkLoc, block)\n\ndef pickReceiver(direction: enums.Direction):\n  if checkBlockFromAgent('redstone_block', direction):\n    agent.destroy(direction)\n    \n    count = 0\n    if agent.get_item(1) == 'redstone_block':\n      count = agent.get_item_count(1)\n    \n    agent.give(('redstone_block'), count + 1, 1)\n\n  if checkBlockFromAgent('lapis_block', direction):\n    agent.destroy(direction)\n    \n    count = 0\n    if agent.get_item(2) == 'lapis_block':\n      count = agent.get_item_count(2)\n    \n    agent.give(('lapis_block'), count + 1, 2)\n\n  if checkBlockFromAgent('emerald_block', direction):\n    agent.destroy(direction)\n    \n    count = 0\n    if agent.get_item(3) == 'emerald_block':\n      count = agent.get_item_count(3)\n    \n    agent.give(('emerald_block', 13, \"\"), count + 1, 3)\n\n  if checkBlockFromAgent('gold_block', direction):\n    agent.destroy(direction)\n    \n    count = 0\n    if agent.get_item(4) == 'gold_block':\n      count = agent.get_item_count(4)\n    \n    agent.give('gold_block', count + 1, 4)\n\ndef placeReceiver(color: str, direction: enums.Direction):\n  if color == 'redstone_block':\n    if agent.get_item(1) == 'redstone_block':\n      agent.place(1, direction)\n    else:\n      player.whisper('I don\\'t have red receiver to place!')\n  elif color == 'lapis_block':\n    if agent.get_item(2) == 'lapis_block':\n      agent.place(2, direction)\n    else:\n      player.whisper('I don\\'t have blue receiver to place!')\n  elif color == 'emerald_block':\n    if agent.get_item(3) == 'emerald_block':\n      agent.place(3, direction)\n    else:\n      player.whisper('I don\\'t have green receiver to place!')\n  elif color == 'gold_block':\n    if agent.get_item(4) == 'gold_block':\n      agent.place(4, direction)\n    else:\n      player.whisper('I don\\'t have yellow receiver to place!')\n  else:\n    raise ValueError('Invalid color')\n  \n@user-code"
    }
   },
   "outputs": [],
   "source": [
    "placeReceiver('red', 'forward')"
   ]
  }
 ],
 "metadata": {
  "kernelspec": {
   "display_name": "Python 3 (ipykernel)",
   "language": "python",
   "name": "python3"
  },
  "language_info": {
   "codemirror_mode": {
    "name": "ipython",
    "version": 3
   },
   "file_extension": ".py",
   "mimetype": "text/x-python",
   "name": "python",
   "nbconvert_exporter": "python",
   "pygments_lexer": "ipython3",
   "version": "3.9.1"
  },
  "minecraft": {
   "description": "Normal Task",
   "page_id": "1.0",
   "page_name": "Normal Task",
   "style": "minecraft.css"
  }
 },
 "nbformat": 4,
 "nbformat_minor": 5
}

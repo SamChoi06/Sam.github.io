{
 "cells": [
  {
   "cell_type": "markdown",
   "id": "e5da5fea",
   "metadata": {},
   "source": [
    "# 任務4: 與人造衛星通訊 \n",
    "\n",
    "任務介紹: 人造衛星通訊系統出現問題，重設天線位置以接收信號\n",
    "\n",
    "引導你的 Agent 機械人將放在錯誤位置的天線取出，然後放進 Agent 背包內，再將天線放置到正確的位置，讓人造衛星重新連結到基地站吧!"
   ]
  },
  {
   "cell_type": "markdown",
   "id": "ec73c98b",
   "metadata": {},
   "source": [
    "# 步驟1: 引導你的 Agent 機械人收集在錯誤位置的收集器\n",
    "\n",
    "控制你的 Agent 機械人，拿起在錯誤位置的收集器吧!\n",
    "\n",
    "### 在這裏會使用到的更多程式碼\n",
    "\n",
    "往不同方向前進: ```agent.move(\"direction\")```, ```direction```為6個不同的行走方向，包括︰```forward```, ```back```, ```left```, ```right```, ```up```, ```down```\n",
    "\n",
    "轉左或轉右: ```agent.turn(\"left\")``` 或 ```agent.turn(\"right\")```\n",
    "\n",
    "在機械人附近拾起信號發射器: ```pickSignal(\"direction\")```, ```direction```為6個不同的方向，包括︰```forward```, ```back```, ```left```, ```right```, ```up```, ```down```\n",
    "\n",
    "**按「開始」嘗試效果吧!以下的程式碼將不能更改。**"
   ]
  },
  {
   "cell_type": "code",
   "execution_count": null,
   "id": "63d2e0e6",
   "metadata": {
    "minecraft": {
     "closeCodeBuilderOnRun": true,
     "readonly": true,
     "hidden": false,
     "overridePython": "from minecraft import enums\n\ndef pickSignal(direction: enums.Direction):\n  if (agent.inspect(direction) == 'end_rod'):\n    agent.destroy(direction)\n\n    count_1 = 0\n    if (agent.get_item(1) == 'end_rod'):\n      count_1 = agent.get_item_count(1)\n    pass\n    \n    agent.give('end_rod', count_1 + 1, 1)\n    pass\n\ndef placeSignal(direction: enums.Direction):\n  count_1 = agent.get_item_count(1)\n  count_2 = 0\n  if (agent.get_item(1) == 'end rod'):\n    if (agent.get_item_count(1) > 0):\n      agent.place(1, direction)\n      count_2 = count_1 -1\n      agent.give('end_rod', count_2, 1)\n      if (count_1 == 1):\n        agent.give('air', 1, 1)\n      pass\n    else:\n      player.whisper('I don\\'t have signal transmitter to place!')\n    pass\n  else:\n    player.whisper('I don\\'t know how to place!')\n    pass\n\n@user-code"
    }
   },
   "outputs": [],
   "source": [
    "agent.move(\"forward\")\n",
    "agent.move(\"back\")\n",
    "agent.turn(\"left\")  \n",
    "agent.turn(\"right\")\n",
    "\n",
    "pickSignal(\"forward\")"
   ]
  },
  {
   "cell_type": "markdown",
   "id": "bac3c4b1",
   "metadata": {},
   "source": [
    "# 步驟2: 將發射器調整到正確的位置上，啟動發射器接收信號\n",
    "\n",
    "將你剛才拿起的信號收集器，放置到正確的位置上，啟動發射器接收信號吧!\n",
    "\n",
    "### 在這裏會使用到的更多程式碼\n",
    "放置發射信號: ```placeSignal(\"direction\")```\n",
    "\n",
    "```direction```為6個不同的方向，包括︰```forward```, ```back```, ```left```, ```right```, ```up```, ```down```\n",
    "\n",
    "**你可以自由更改以下的程式碼，完成編程後才按「開始」，嘗試你的程式嗎吧!**"
   ]
  },
  {
   "cell_type": "code",
   "execution_count": null,
   "id": "2c93c146",
   "metadata": {
    "minecraft": {
     "closeCodeBuilderOnRun": true,
     "hidden": false,
     "overridePython": "from minecraft import enums\n\ndef pickSignal(direction: enums.Direction):\n  if (agent.inspect(direction) == 'end_rod'):\n    agent.destroy(direction)\n\n    count_1 = 0\n    if (agent.get_item(1) == 'end_rod'):\n      count_1 = agent.get_item_count(1)\n    pass\n    \n    agent.give('end_rod', count_1 + 1, 1)\n    pass\n\ndef placeSignal(direction: enums.Direction):\n  count_1 = agent.get_item_count(1)\n  count_2 = 0\n  if (agent.get_item(1) == 'end rod'):\n    if (agent.get_item_count(1) > 0):\n      agent.place(1, direction)\n      count_2 = count_1 -1\n      agent.give('end_rod', count_2, 1)\n      if (count_1 == 1):\n        agent.give('air', 1, 1)\n      pass\n    else:\n      player.whisper('I don\\'t have signal transmitter to place!')\n    pass\n  else:\n    player.whisper('I don\\'t know how to place!')\n    pass\n\n@user-code"
    }
   },
   "outputs": [],
   "source": [
    "placeSignal(\"forward\")"
   ]
  }
 ],
 "metadata": {
  "kernelspec": {
   "display_name": "Python 3 (ipykernel)",
   "language": "python",
   "name": "python3"
  },
  "language_info": {
   "codemirror_mode": {
    "name": "ipython",
    "version": 3
   },
   "file_extension": ".py",
   "mimetype": "text/x-python",
   "name": "python",
   "nbconvert_exporter": "python",
   "pygments_lexer": "ipython3",
   "version": "3.9.1"
  },
  "minecraft": {
   "description": "Normal Task",
   "page_id": "1.0",
   "page_name": "Normal Task",
   "style": "minecraft.css"
  }
 },
 "nbformat": 4,
 "nbformat_minor": 5
}

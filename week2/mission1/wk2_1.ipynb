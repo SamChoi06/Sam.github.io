{
 "cells": [
  {
   "cell_type": "markdown",
   "id": "e5da5fea",
   "metadata": {},
   "source": [
    "# 任務1: 注入燃料 \n",
    "\n",
    "任務介紹: 發射前準備，注入燃料到燃料存放槽內，以製造燃料棒\n",
    "\n",
    "用程式生成器內的工具箱原件, 引導你的 Agent 收集地上的燃料筒吧!"
   ]
  },
  {
   "cell_type": "markdown",
   "id": "ec73c98b",
   "metadata": {},
   "source": [
    "# 步驟1: 引導你的 Agent 機械人向目標方向移動\n",
    "\n",
    "你可以以 Python 程式碼操控你的 Agent 機械人的行走方向和幅度，運行下面的程式，命令機械人向前走一步，再向後走一步, 然後向左和右轉吧!\n",
    "\n",
    "### 在這裏會使用到的程式碼\n",
    "向前走: ```agent.move(\"forward\")```\n",
    "向後走: ```agent.move(\"backward\")```\n",
    "轉左: ```agent.turn(\"left\")```\n",
    "轉右: ```agent.turn(\"right\")```\n",
    "\n",
    "**按「開始」嘗試效果吧!以下的程式碼將不能更改。**"
   ]
  },
  {
   "cell_type": "code",
   "execution_count": null,
   "id": "63d2e0e6",
   "metadata": {
    "minecraft": {
     "closeCodeBuilderOnRun": true,
     "hidden": false,
     "readonly": true
    }
   },
   "outputs": [],
   "source": [
    "agent.move(\"forward\")\n",
    "agent.move(\"back\")\n",
    "agent.turn(\"left\")  \n",
    "agent.turn(\"right\")"
   ]
  },
  {
   "cell_type": "markdown",
   "id": "bac3c4b1",
   "metadata": {},
   "source": [
    "# 步驟2: 如果遇到熔岩燃料 (Lava Bucket), 拾起熔岩筒\n",
    "\n",
    "除了控制你的 Agent 機械人走去那裏外，你還可以使用特別的 Python Functions，進行一些特定的任務。你需要跟隨 Python Function 的格式和使用方法，以完成那些的任務。\n",
    "\n",
    "### 在這裏會使用到的更多程式碼\n",
    "在機械人附近拾起熔岩燃料: ```pickUpFuel()```\n",
    "\n",
    "**按「開始」嘗試效果吧!以下的程式碼將不能更改。**"
   ]
  },
  {
   "cell_type": "code",
   "execution_count": null,
   "id": "2c93c146",
   "metadata": {
    "minecraft": {
     "closeCodeBuilderOnRun": true,
     "hidden": false,
     "overridePython": 
     "from minecraft.location import as_loc\n\ndef pickFuel():\n  agent.collect(\"bucket\")\n  pass\n\ndef placeFuel():\n  check = [as_loc(1081, 45, -230), as_loc(1086, 45, -230), as_loc(1091, 45, -230)]\n  canPlace = False\n\n  for c in check:\n      if (agent.position == c):\n          canPlace = True\n          break\n\n  if (canPlace == True):\n    count_1 = agent.get_item_count(1)\n    count_2 = 0\n      if (agent.get_item_count(1) > 0 and agent.get_item(1) == 'bucket'):\n          agent.give('lava_bucket', 1, 2)\n          agent.place(2, 'down')\n          count_2 = count_1 - 1\n          if (count_1 == 1):\n            agent.give('air', 1, 1)\n      else:\n          player.whisper('I don\\'t have fuel bucket to place fuel!')\n  else:\n      player.whisper('I can\\'t place fuel at this position!')",
     "readonly": true
    }
   },
   "outputs": [],
   "source": [
    "agent.move(\"forward\")\n",
    "pickUpFuel()"
   ]
  },
  {
   "cell_type": "markdown",
   "id": "a0d8b89b",
   "metadata": {},
   "source": [
    "# 步驟3: 將熔岩燃料送到反應堆內，重啟反應堆\n",
    "\n",
    "現在使用在 步驟1 及 步驟2 學習到的 Python 程式碼，將足夠的熔岩燃料送到反應堆內，重啟反應堆吧!\n",
    "\n",
    "### 在這裏會使用到的更多程式碼\n",
    "放下燃料: ```placeFuel()```\n",
    "\n",
    "**你可以自由更改以下的程式碼，完成編程後才按「開始」，嘗試你的程式嗎吧!**"
   ]
  },
  {
   "cell_type": "code",
   "execution_count": null,
   "id": "857ad53a",
   "metadata": {
    "minecraft": {
     "closeCodeBuilderOnRun": true,
     "hidden": false,
     "overridePython": 
     "from minecraft.location import as_loc\n\ndef pickFuel():\n  agent.collect(\"bucket\")\n  pass\n\ndef placeFuel():\n  check = [as_loc(1081, 45, -230), as_loc(1086, 45, -230), as_loc(1091, 45, -230)]\n  canPlace = False\n\n  for c in check:\n      if (agent.position == c):\n          canPlace = True\n          break\n\n  if (canPlace == True):\n    count_1 = agent.get_item_count(1)\n    count_2 = 0\n      if (agent.get_item_count(1) > 0 and agent.get_item(1) == 'bucket'):\n          agent.give('lava_bucket', 1, 2)\n          agent.place(2, 'down')\n          count_2 = count_1 - 1\n          if (count_1 == 1):\n            agent.give('air', 1, 1)\n      else:\n          player.whisper('I don\\'t have fuel bucket to place fuel!')\n  else:\n      player.whisper('I can\\'t place fuel at this position!')"
    }
   },
   "outputs": [],
   "source": [
    "placeFuel()"
   ]
  }
 ],
 "metadata": {
  "kernelspec": {
   "display_name": "Python 3 (ipykernel)",
   "language": "python",
   "name": "python3"
  },
  "language_info": {
   "codemirror_mode": {
    "name": "ipython",
    "version": 3
   },
   "file_extension": ".py",
   "mimetype": "text/x-python",
   "name": "python",
   "nbconvert_exporter": "python",
   "pygments_lexer": "ipython3",
   "version": "3.9.1"
  },
  "minecraft": {
   "description": "Normal Task",
   "page_id": "1.0",
   "page_name": "Normal Task",
   "style": "minecraft.css"
  }
 },
 "nbformat": 4,
 "nbformat_minor": 5
}

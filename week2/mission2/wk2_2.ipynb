{
 "cells": [
  {
   "cell_type": "markdown",
   "id": "e5da5fea",
   "metadata": {},
   "source": [
    "# 任務2: 啟動冷卻裝置\n",
    "\n",
    "任務介紹: 收集冷卻原料，並跟據另外一部冷卻裝置上的擺放規律，放置到面前的裝置內\n",
    "\n",
    "引導你的 Agent 機械人收集正確的原料，並跟據另外一部裝置的冷卻原料擺放規律，放置到前方的裝置內吧!"
   ]
  },
  {
   "cell_type": "markdown",
   "id": "ec73c98b",
   "metadata": {},
   "source": [
    "# 步驟1: 引導你的 Agent 機械人向目標方向移動\n",
    "\n",
    "你可以以 Python 程式碼操控你的 Agent 機械人的行走方向和幅度，運行下面的程式，命令機械人向前走一步，再向後走一步, 然後向左和右轉吧!\n",
    "\n",
    "### 在這裏會使用到的程式碼\n",
    "向前走: ```agent.move(\"forward\")```\n",
    "向後走: ```agent.move(\"backward\")```\n",
    "轉左: ```agent.turn(\"left\")```\n",
    "轉右: ```agent.turn(\"right\")```\n",
    "\n",
    "**按「開始」嘗試效果吧!以下的程式碼將不能更改。**"
   ]
  },
  {
   "cell_type": "code",
   "execution_count": null,
   "id": "63d2e0e6",
   "metadata": {},
   "outputs": [],
   "source": [
    "agent.move(\"forward\")\n",
    "agent.move(\"back\")\n",
    "agent.turn(\"left\")  \n",
    "agent.turn(\"right\")"
   ]
  },
  {
   "cell_type": "markdown",
   "id": "bac3c4b1",
   "metadata": {},
   "source": [
    "# 步驟2: 收集特定冷凍原料\n",
    "\n",
    "除了控制你的 Agent 機械人走去那裏外，你還可以使用特別的 Python Functions，進行一些特定的任務。你需要跟隨 Python Function 的格式和使用方法，以完成那些的任務。\n",
    "\n",
    "### 在這裏會使用到的更多程式碼\n",
    "在機械人附近拾起熔岩燃料: ```pickCoolant('forward')```\n",
    "\n",
    "你亦可以將 ```pickCoolant('forward')``` 內的 ```forward``` 換成6個不同的方向，包括︰\n",
    "```forward```, ```backward```, ```left```, ```right```, ```up```, ```downn```\n",
    "\n",
    "**按「開始」嘗試效果吧!以下的程式碼將不能更改。**"
   ]
  },
  {
   "cell_type": "code",
   "execution_count": null,
   "id": "2c93c146",
   "metadata": {
    "minecraft": {
     "closeCodeBuilderOnRun": true,
     "hidden": false,
     "overridePython": "from minecraft import enums\r\n\r\ndef pickCoolant(direction: enums.Direction):\r\n  if (agent.inspect(direction) == 'blue_ice'):\r\n    agent.destroy(direction)\r\n\r\n    count_1 = 0\r\n    if (agent.get_item(1) == 'blue ice'):\r\n      count_1 = agent.get_item_count(1)\r\n    pass\r\n    \r\n    agent.give('blue_ice', count_1 + 1, 1)\r\n    pass\r\n  \r\n  if (agent.inspect(direction) == 'packed_ice'):\r\n    agent.destroy(direction)\r\n\r\n    count_2 = 0\r\n    if (agent.get_item(2) == 'packed ice'):\r\n      count_2 = agent.get_item_count(2)\r\n    pass\r\n    \r\n    agent.give('packed_ice', count_2 + 1, 2)\r\n    pass\r\n  pass\r\n\r\ndef placeBlueCoolant(direction: enums.Direction):\r\n  if (agent.get_item(1) == 'blue ice'):\r\n    if (agent.get_item_count(1) > 0):\r\n      agent.place(1, direction)\r\n      pass\r\n    else:\r\n      player.whisper('I don\\'t have blue coolant to place!')\r\n    pass\r\n  else:\r\n    player.whisper('I don\\'t have blue coolant to place!')\r\n    pass\r\n\r\ndef placePackedCoolant(direction: enums.Direction):\r\n  if (agent.get_item(2) == 'packed ice'):\r\n    if (agent.get_item_count(2) > 0):\r\n        agent.place(2, direction)\r\n        pass\r\n    else:\r\n        player.whisper('I don\\'t have packed coolant to place!')\r\n    pass\r\n  else:\r\n    player.whisper('I don\\'t have packed coolant to place!')\r\n    pass\r\n@user-code",
     "readonly": true
    }
   },
   "outputs": [],
   "source": [
    "for i in range(5):\n",
    "    agent.move(\"left\")\n",
    "pickCoolant('forward')"
   ]
  },
  {
   "cell_type": "markdown",
   "id": "a0d8b89b",
   "metadata": {},
   "source": [
    "# 步驟3: 將冷凍原料放到火箭裝置內\n",
    "\n",
    "現在使用在 步驟1 及 步驟2 學習到的 Python 程式碼，跟據另外一部冷卻裝置上的擺放規律，將足夠的冷凍原料送到火箭裝置內，準備火箭升空吧!\n",
    "\n",
    "### 在這裏會使用到的更多程式碼\n",
    "放下壓縮冰 (左手邊) 冷凍原料: ```placePackedCoolant(\"left\")```\n",
    "放下藍冰 (右手邊) 冷凍原料: ```placeBlueCoolant(\"left\")```\n",
    "\n",
    "\n",
    "你亦可以將 ```placePackedCoolant(\"left\")``` 或 ```placeBlueCoolant(\"left\")``` 內的 ```left``` 換成6個不同的方向，包括︰\n",
    "```forward```, ```backward```, ```left```, ```right```, ```up```, ```downn```\n",
    "\n",
    "**你可以自由更改以下的程式碼，完成編程後才按「開始」，嘗試你的程式嗎吧!**"
   ]
  },
  {
   "cell_type": "code",
   "execution_count": null,
   "id": "857ad53a",
   "metadata": {
    "minecraft": {
     "closeCodeBuilderOnRun": true,
     "hidden": false,
     "overridePython": "from minecraft import enums\r\n\r\ndef pickCoolant(direction: enums.Direction):\r\n  if (agent.inspect(direction) == 'blue_ice'):\r\n    agent.destroy(direction)\r\n\r\n    count_1 = 0\r\n    if (agent.get_item(1) == 'blue ice'):\r\n      count_1 = agent.get_item_count(1)\r\n    pass\r\n    \r\n    agent.give('blue_ice', count_1 + 1, 1)\r\n    pass\r\n  \r\n  if (agent.inspect(direction) == 'packed_ice'):\r\n    agent.destroy(direction)\r\n\r\n    count_2 = 0\r\n    if (agent.get_item(2) == 'packed ice'):\r\n      count_2 = agent.get_item_count(2)\r\n    pass\r\n    \r\n    agent.give('packed_ice', count_2 + 1, 2)\r\n    pass\r\n  pass\r\n\r\ndef placeBlueCoolant(direction: enums.Direction):\r\n  if (agent.get_item(1) == 'blue ice'):\r\n    if (agent.get_item_count(1) > 0):\r\n      agent.place(1, direction)\r\n      pass\r\n    else:\r\n      player.whisper('I don\\'t have blue coolant to place!')\r\n    pass\r\n  else:\r\n    player.whisper('I don\\'t have blue coolant to place!')\r\n    pass\r\n\r\ndef placePackedCoolant(direction: enums.Direction):\r\n  if (agent.get_item(2) == 'packed ice'):\r\n    if (agent.get_item_count(2) > 0):\r\n        agent.place(2, direction)\r\n        pass\r\n    else:\r\n        player.whisper('I don\\'t have packed coolant to place!')\r\n    pass\r\n  else:\r\n    player.whisper('I don\\'t have packed coolant to place!')\r\n    pass\r\n@user-code"
    }
   },
   "outputs": [],
   "source": [
    "placePackedCoolant(\"left\")\n",
    "placeBlueCoolant(\"left\")"
   ]
  }
 ],
 "metadata": {
  "kernelspec": {
   "display_name": "Python 3 (ipykernel)",
   "language": "python",
   "name": "python3"
  },
  "language_info": {
   "codemirror_mode": {
    "name": "ipython",
    "version": 3
   },
   "file_extension": ".py",
   "mimetype": "text/x-python",
   "name": "python",
   "nbconvert_exporter": "python",
   "pygments_lexer": "ipython3",
   "version": "3.9.1"
  },
  "minecraft": {
   "description": "Normal Task",
   "page_id": "1.0",
   "page_name": "Normal Task",
   "style": "minecraft.css"
  }
 },
 "nbformat": 4,
 "nbformat_minor": 5
}

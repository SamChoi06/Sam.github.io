{
 "cells": [
  {
   "cell_type": "markdown",
   "id": "e5da5fea",
   "metadata": {},
   "source": [
    "任務1: 搬運核燃料棒 \n",
    "\n",
    "請引導你的 Agent 機械人將燃料棒填充到火箭反應堆。完成準備升空的程序吧!"
   ]
  },
  {
   "cell_type": "markdown",
   "id": "ec73c98b",
   "metadata": {},
   "source": [
    "# 步驟1: 學習如何引導你的 Agent 機械人拿燃料來起，及前進\n",
    "\n",
    "你可以以 Python 程式碼操控你的 Agent 機械人的行走方向和幅度，運行下面的程式，命令機械人向前走一步，再向後走一步, 然後向左和右轉吧!\n",
    "\n",
    "### 在這裏會使用到的程式碼\n",
    "向前走: ```agent.move(\"forward\")```\n",
    "向後走: ```agent.move(\"backward\")```\n",
    "轉左: ```agent.turn(\"left\")```\n",
    "轉右: ```agent.turn(\"right\")```\n",
    "拾起燃料: ```pickUpFuel(\"forward\")```\n",
    "\n",
    "你亦可以將 ```pickUpFuel(\"forward\")``` 內的 ```left``` 換成6個不同的方向，包括︰\n",
    "```forward```, ```backward```, ```left```, ```right```, ```up```, ```down```\n",
    "\n",
    "**按「開始」嘗試效果吧!以下的程式碼將不能更改。**"
   ]
  },
  {
   "cell_type": "code",
   "execution_count": null,
   "id": "63d2e0e6",
   "metadata": {
    "minecraft": {
     "closeCodeBuilderOnRun": true,
     "hidden": false,
     "overridePython": "from minecraft.location import as_loc\r\nfrom minecraft import enums\r\n\r\ndef pickFuel(direction: enums.Direction):\r\n  if (agent.inspect(direction) == 'magma'):\r\n    agent.destroy(direction)\r\n\r\n    count_1 = 0\r\n    if (agent.get_item(1) == 'magma'):\r\n      count_1 = agent.get_item_count(1)\r\n    pass\r\n    \r\n    agent.give('magma', count_1 + 1, 1)\r\n    pass\r\n  pass\r\n\r\ndef placeFuel(direction: enums.Direction):\r\n  checkPosition = as_loc(2212, 45, -302)\r\n\r\n  if (canPlaceBlock(checkPosition, direction)):\r\n      if (agent.get_item_count(1) > 0 and agent.get_item(1) == 'magma'):\r\n          agent.place(1, direction)\r\n      else:\r\n          player.whisper('I don\\'t have fuel to place!')\r\n  else:\r\n      player.whisper('I can\\'t place fuel at this position!')\r\n\r\ndef getCardinalDirection(direction: enums.Direction):\r\n  if (direction == 'up'): \r\n    return as_loc(0, 1, 0)\r\n  if (direction == 'down'): \r\n    return as_loc(0, -1, 0)\r\n\r\n  actionDirection = 180 + agent.rotation\r\n  if direction == 'forward':\r\n    pass\r\n  elif direction == 'back':\r\n    actionDirection += 180\r\n    pass\r\n  elif direction == 'left':\r\n    actionDirection += 270\r\n    pass\r\n  elif direction == 'right':\r\n     actionDirection += 90\r\n    pass\r\n  \r\n  actionDirection = (actionDirection % 360) - 180\r\n  \r\n  if actionDirection == -180.0:\r\n    return as_loc(0, 0, -1)\r\n  elif actionDirection == -90.0:\r\n      return as_loc(1, 0, 0)\r\n  elif actionDirection == 0.0:\r\n    return as_loc(0, 0, 1)\r\n  elif actionDirection == 90.0:\r\n    return as_loc(-1, 0, 0)\r\n\r\ndef canPlaceBlock(loc, direction: enums.Direction):\r\n  checkLoc = agent.position.__add__(getCardinalDirection(direction))\r\n  return checkLoc == loc\r\n@user-code",
     "readonly": true
    }
   },
   "outputs": [],
   "source": [
    "agent.turn(\"left\")\n",
    "agent.turn(\"left\")\n",
    "pickUpFuel(\"forward\")\n",
    "agent.turn(\"right\")\n",
    "agent.turn(\"right\")\n",
    "agent.move(\"forward\")"
   ]
  },
  {
   "cell_type": "markdown",
   "id": "bac3c4b1",
   "metadata": {},
   "source": [
    "# 步驟2: 走到火箭反應堆面前，填充燃料吧!\n",
    "\n",
    "Agent 機械人離反應堆都有一段距離，而我們在程式碼上面總不能不停複製貼上同一個指令的，因此我們需要學懂使用 Loop (迴圈) 指令。Python Loop 指令是這樣的:\n",
    "\n",
    "```python\n",
    "for i in range(15):\n",
    "  agent.move(\"forward\")\n",
    "  pass\n",
    "placeFuel(\"forward\")\n",
    "```\n",
    "注意在 ```agent.move(\"forward\")``` 和 ```pass``` 前面都有最少兩格的空格，這是 Python Loop 指令的要求來的，如果你沒有空格在這些指令前面，會出現 IdentationError，指令碼將不能於運行。\n",
    "\n",
    "### 在這裏會使用到的更多程式碼\n",
    "放下燃料: ```placeFuel(\"forward\")```\n",
    "\n",
    "你亦可以將 ```placeFuel(\"forward\")``` 內的 ```left``` 換成6個不同的方向，包括︰\n",
    "```forward```, ```backward```, ```left```, ```right```, ```up```, ```down```\n",
    "\n",
    "**按「開始」嘗試效果吧!以下的程式碼將不能更改。**"
   ]
  },
  {
   "cell_type": "code",
   "execution_count": null,
   "id": "2c93c146",
   "metadata": {
    "minecraft": {
     "closeCodeBuilderOnRun": true,
     "hidden": false,
     "overridePython": "from minecraft.location import as_loc\r\nfrom minecraft import enums\r\n\r\ndef pickFuel(direction: enums.Direction):\r\n  if (agent.inspect(direction) == 'magma'):\r\n    agent.destroy(direction)\r\n\r\n    count_1 = 0\r\n    if (agent.get_item(1) == 'magma'):\r\n      count_1 = agent.get_item_count(1)\r\n    pass\r\n    \r\n    agent.give('magma', count_1 + 1, 1)\r\n    pass\r\n  pass\r\n\r\ndef placeFuel(direction: enums.Direction):\r\n  checkPosition = as_loc(2212, 45, -302)\r\n\r\n  if (canPlaceBlock(checkPosition, direction)):\r\n      if (agent.get_item_count(1) > 0 and agent.get_item(1) == 'magma'):\r\n          agent.place(1, direction)\r\n      else:\r\n          player.whisper('I don\\'t have fuel to place!')\r\n  else:\r\n      player.whisper('I can\\'t place fuel at this position!')\r\n\r\ndef getCardinalDirection(direction: enums.Direction):\r\n  if (direction == 'up'): \r\n    return as_loc(0, 1, 0)\r\n  if (direction == 'down'): \r\n    return as_loc(0, -1, 0)\r\n\r\n  actionDirection = 180 + agent.rotation\r\n  if direction == 'forward':\r\n    pass\r\n  elif direction == 'back':\r\n    actionDirection += 180\r\n    pass\r\n  elif direction == 'left':\r\n    actionDirection += 270\r\n    pass\r\n  elif direction == 'right':\r\n     actionDirection += 90\r\n    pass\r\n  \r\n  actionDirection = (actionDirection % 360) - 180\r\n  \r\n  if actionDirection == -180.0:\r\n    return as_loc(0, 0, -1)\r\n  elif actionDirection == -90.0:\r\n      return as_loc(1, 0, 0)\r\n  elif actionDirection == 0.0:\r\n    return as_loc(0, 0, 1)\r\n  elif actionDirection == 90.0:\r\n    return as_loc(-1, 0, 0)\r\n\r\ndef canPlaceBlock(loc, direction: enums.Direction):\r\n  checkLoc = agent.position.__add__(getCardinalDirection(direction))\r\n  return checkLoc == loc\r\n@user-code",
     "readonly": true
    }
   },
   "outputs": [],
   "source": [
    "for i in range(15):\n",
    "  agent.move(\"forward\")\n",
    "  pass\n",
    "placeFuel(\"forward\")"
   ]
  },
  {
   "cell_type": "markdown",
   "id": "a0d8b89b",
   "metadata": {},
   "source": [
    "# 步驟3: 重複最少4次填充燃料步驟，填充火箭反應堆的燃料庫吧!\n",
    "\n",
    "現在使用在 步驟1 及 步驟2 學習到的 Python 程式碼，填充火箭反應堆的燃料庫吧! 你可以繼續使用 Python Loop 指令，減少重複使用同一指令。\n",
    "\n",
    "**你可以自由更改以下的程式碼，完成編程後才按「開始」，嘗試你的程式嗎吧!**"
   ]
  },
  {
   "cell_type": "code",
   "execution_count": null,
   "id": "857ad53a",
   "metadata": {
    "minecraft": {
     "closeCodeBuilderOnRun": true,
     "hidden": false,
     "overridePython": "from minecraft.location import as_loc\r\nfrom minecraft import enums\r\n\r\ndef pickFuel(direction: enums.Direction):\r\n  if (agent.inspect(direction) == 'magma'):\r\n    agent.destroy(direction)\r\n\r\n    count_1 = 0\r\n    if (agent.get_item(1) == 'magma'):\r\n      count_1 = agent.get_item_count(1)\r\n    pass\r\n    \r\n    agent.give('magma', count_1 + 1, 1)\r\n    pass\r\n  pass\r\n\r\ndef placeFuel(direction: enums.Direction):\r\n  checkPosition = as_loc(2212, 45, -302)\r\n\r\n  if (canPlaceBlock(checkPosition, direction)):\r\n      if (agent.get_item_count(1) > 0 and agent.get_item(1) == 'magma'):\r\n          agent.place(1, direction)\r\n      else:\r\n          player.whisper('I don\\'t have fuel to place!')\r\n  else:\r\n      player.whisper('I can\\'t place fuel at this position!')\r\n\r\ndef getCardinalDirection(direction: enums.Direction):\r\n  if (direction == 'up'): \r\n    return as_loc(0, 1, 0)\r\n  if (direction == 'down'): \r\n    return as_loc(0, -1, 0)\r\n\r\n  actionDirection = 180 + agent.rotation\r\n  if direction == 'forward':\r\n    pass\r\n  elif direction == 'back':\r\n    actionDirection += 180\r\n    pass\r\n  elif direction == 'left':\r\n    actionDirection += 270\r\n    pass\r\n  elif direction == 'right':\r\n     actionDirection += 90\r\n    pass\r\n  \r\n  actionDirection = (actionDirection % 360) - 180\r\n  \r\n  if actionDirection == -180.0:\r\n    return as_loc(0, 0, -1)\r\n  elif actionDirection == -90.0:\r\n      return as_loc(1, 0, 0)\r\n  elif actionDirection == 0.0:\r\n    return as_loc(0, 0, 1)\r\n  elif actionDirection == 90.0:\r\n    return as_loc(-1, 0, 0)\r\n\r\ndef canPlaceBlock(loc, direction: enums.Direction):\r\n  checkLoc = agent.position.__add__(getCardinalDirection(direction))\r\n  return checkLoc == loc\r\n@user-code"
    }
   },
   "outputs": [],
   "source": [
    "for i in range(4):\n",
    "  pass"
   ]
  }
 ],
 "metadata": {
  "kernelspec": {
   "display_name": "Python 3 (ipykernel)",
   "language": "python",
   "name": "python3"
  },
  "language_info": {
   "codemirror_mode": {
    "name": "ipython",
    "version": 3
   },
   "file_extension": ".py",
   "mimetype": "text/x-python",
   "name": "python",
   "nbconvert_exporter": "python",
   "pygments_lexer": "ipython3",
   "version": "3.9.1"
  },
  "minecraft": {
   "description": "Normal Task",
   "page_id": "1.0",
   "page_name": "Normal Task",
   "style": "minecraft.css"
  }
 },
 "nbformat": 4,
 "nbformat_minor": 5
}

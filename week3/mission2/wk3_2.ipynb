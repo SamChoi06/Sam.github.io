{
 "cells": [
  {
   "cell_type": "markdown",
   "id": "e5da5fea",
   "metadata": {},
   "source": [
    "# 任務2: 組裝升空火箭\n",
    "\n",
    "任務介紹: 我們即將要組裝火箭了! 但是火箭操作員卻有一個特別任務需要我們完成 - 他希望可以有一個色彩繽紛的火箭!\n",
    "\n",
    "引導你的 Agent 機械人收集你喜愛的顏料，然後顏料放置到填充位置，為火箭添加不同顏色吧!"
   ]
  },
  {
   "cell_type": "markdown",
   "id": "ec73c98b",
   "metadata": {},
   "source": [
    "# 步驟1: 收集顏料，前進到顏料填充位置，放下顏料\n",
    "\n",
    "與上一個任務一樣，你將會使用不同的指令控制你的 Agent，進行三種動作，將於顏料送到不同的填充位置。\n",
    "\n",
    "### 在這裏會使用到的程式碼\n",
    "向前走: ```agent.move(\"forward\")```\n",
    "\n",
    "向後走: ```agent.move(\"backward\")```\n",
    "\n",
    "拾起顏料: ```pickUpColour(\"backward\")```\n",
    "\n",
    "放下顏料: ```placeColour(\"forward\")```\n",
    "\n",
    "迴圈指令:\n",
    "\n",
    "```python\n",
    "for i in range(2):\n",
    "  agent.move(\"forward\")\n",
    "  pass\n",
    "```\n",
    "\n",
    "**按「開始」嘗試效果吧!以下的程式碼將不能更改。**"
   ]
  },
  {
   "cell_type": "code",
   "execution_count": null,
   "id": "63d2e0e6",
   "metadata": {
    "minecraft": {
     "closeCodeBuilderOnRun": true,
     "hidden": false,
     "overridePython": "from minecraft import enums\r\nfrom minecraft.location import as_loc\r\n\r\ndef getCardinalDirection(direction: enums.Direction):\r\n  if (direction == 'up'): \r\n    return as_loc(0, 1, 0)\r\n  if (direction == 'down'): \r\n    return as_loc(0, -1, 0)\r\n\r\n  actionDirection = 180 + agent.rotation\r\n  if direction == 'forward':\r\n    pass\r\n  elif direction == 'back':\r\n    actionDirection += 180\r\n    pass\r\n  elif direction == 'left':\r\n    actionDirection += 270\r\n    pass\r\n  elif direction == 'right':\r\n    actionDirection += 90\r\n    pass\r\n  \r\n  actionDirection = (actionDirection % 360) - 180\r\n  \r\n  if actionDirection == -180.0:\r\n    return as_loc(0, 0, -1)\r\n  elif actionDirection == -90.0:\r\n    return as_loc(1, 0, 0)\r\n  elif actionDirection == 0.0:\r\n    return as_loc(0, 0, 1)\r\n  elif actionDirection == 90.0:\r\n    return as_loc(-1, 0, 0)\r\n\r\ndef canPlaceBlock(loc, direction: enums.Direction):\r\n  checkLoc = agent.position.__add__(getCardinalDirection(direction))\r\n  return checkLoc == loc\r\n\r\ndef pickUpColour(direction: enums.Direction):\r\n  colorDict = {\r\n    \"white_concrete\": 0,\r\n    \"orange_concrete\": 1,\r\n    \"magenta_concrete\": 2,\r\n    \"light_blue_concrete\": 3\r\n    \"yellow_concrete\": 4,\r\n    \"lime_concrete\": 5,\r\n    \"pink_concrete\": 6,\r\n    \"gray_concrete\": 7,\r\n    \"silver_concrete\": 8,\r\n    \"cyan_concrete\": 9,\r\n    \"purple_concrete\": 10,\r\n    \"blue_concrete\": 11,\r\n    \"brown_concrete\": 12,\r\n    \"green_concrete\": 13,\r\n    \"red_concrete\": 14,\r\n    \"black_concrete\": 15,\r\n  }\r\n\r\n  for key in colorDict:\r\n    if checkBlockFromAgent(key, direction):\r\n      agent.destroy(direction)\r\n      count = 0\r\n      if agent.get_item(1) == 'concrete':\r\n        count = agent.get_item_count(1)\r\n      \r\n      agent.give(('concrete', colorDict[key], \"\"), count + 1, colorDict[key])\r\n      break\r\n\r\ndef canPlaceColourBlock(slot: int, direction: enums.Direction):\r\n  check = [as_loc(209, 10, -284), as_loc(214, 10, -284), as_loc(219, 10, -284)]\r\n  canPlace = False\r\n\r\n  for c in check:\r\n    if (canPlaceBlock(c, direction)):\r\n        canPlace = True\r\n        break\r\n  \r\n  if (not canPlace):\r\n    player.whisper('I can\\'t place blocks here!')\r\n    return False\r\n\r\n  if (agent.get_item(slot) == 'concrete'):\r\n    if (agent.get_item_count(slot) > 0):\r\n      return True\r\n    else:\r\n      player.whisper('I don\\'t have the block to place!')\r\n      return False\r\n  else:\r\n    player.whisper('I don\\'t have the right blocks to place!')\r\n    return False\r\n\r\ndef placeColour(color: str, direction: enums.Direction):\r\n  checkPosition = as_loc(2212, 45, -302)\r\n  colorDict = {\r\n    \"white\": 0,\r\n    \"orange\": 1,\r\n    \"magenta\": 2,\r\n    \"light_blue\": 3\r\n    \"yellow\": 4,\r\n    \"lime\": 5,\r\n    \"pink\": 6,\r\n    \"gray\": 7,\r\n    \"light_gray\": 8,\r\n    \"cyan\": 9,\r\n    \"purple\": 10,\r\n    \"blue\": 11,\r\n    \"brown\": 12,\r\n    \"green\": 13,\r\n    \"red\": 14,\r\n    \"black\": 15,\r\n  }\r\n\r\n  slot = colorDict[color]\r\n  if (slot is undefined):\r\n    raise ValueError('Invalid color')\r\n\r\n  if canPlaceReceiver(slot):\r\n    agent.place(slot, direction)\r\n@user-code",
     "readonly": true
    }
   },
   "outputs": [],
   "source": [
    "pickUpColour(\"backward\")\n",
    "for i in range(2):\n",
    "  agent.move(\"forward\")\n",
    "  pass\n",
    "placeColour(\"forward\")"
   ]
  },
  {
   "cell_type": "markdown",
   "id": "bac3c4b1",
   "metadata": {},
   "source": [
    "# 步驟2: 重複上述動作，但指示 Agent 行走不同距離\n",
    "\n",
    "由於每一個顏料填充位置 與 取得顏料的位置的距離都有不同，所以我們使用 Python Loop 迴圈指令時，需要加入一個距離計數器。\n",
    "\n",
    "Python 建立計數器的方法為 ```distance = 2```，像代數一樣，我們可以任意為左邊的 Variables (變數) 命名，加上一個等號及數字，你即可以為計數器設立一個初始數值。\n",
    "\n",
    "由於每一個顏料位置距離為 5 格，所以我們可以在每一次迴圈內，增加計數器內的數值，Python 方法為 ```distance += 5```\n",
    "\n",
    "之後你可以將迴圈內的數值改為計數器的名稱 (distance): ```for i in range(distance)```，這樣你就可以自由變更迴圈次數。\n",
    "\n",
    "### 在這裏會使用到的更多程式碼\n",
    "設定距離計數器: ```distance = 2```\n",
    "\n",
    "增加距離計數器內的數值: ```distance += 5```\n",
    "\n",
    "**你可以自由更改以下的程式碼，完成編程後才按「開始」，嘗試你的程式嗎吧!**"
   ]
  },
  {
   "cell_type": "code",
   "execution_count": null,
   "id": "2c93c146",
   "metadata": {
    "minecraft": {
     "closeCodeBuilderOnRun": true,
     "hidden": false,
     "overridePython": "from minecraft import enums\r\nfrom minecraft.location import as_loc\r\n\r\ndef getCardinalDirection(direction: enums.Direction):\r\n  if (direction == 'up'): \r\n    return as_loc(0, 1, 0)\r\n  if (direction == 'down'): \r\n    return as_loc(0, -1, 0)\r\n\r\n  actionDirection = 180 + agent.rotation\r\n  if direction == 'forward':\r\n    pass\r\n  elif direction == 'back':\r\n    actionDirection += 180\r\n    pass\r\n  elif direction == 'left':\r\n    actionDirection += 270\r\n    pass\r\n  elif direction == 'right':\r\n    actionDirection += 90\r\n    pass\r\n  \r\n  actionDirection = (actionDirection % 360) - 180\r\n  \r\n  if actionDirection == -180.0:\r\n    return as_loc(0, 0, -1)\r\n  elif actionDirection == -90.0:\r\n    return as_loc(1, 0, 0)\r\n  elif actionDirection == 0.0:\r\n    return as_loc(0, 0, 1)\r\n  elif actionDirection == 90.0:\r\n    return as_loc(-1, 0, 0)\r\n\r\ndef canPlaceBlock(loc, direction: enums.Direction):\r\n  checkLoc = agent.position.__add__(getCardinalDirection(direction))\r\n  return checkLoc == loc\r\n\r\ndef pickUpColour(direction: enums.Direction):\r\n  colorDict = {\r\n    \"white_concrete\": 0,\r\n    \"orange_concrete\": 1,\r\n    \"magenta_concrete\": 2,\r\n    \"light_blue_concrete\": 3\r\n    \"yellow_concrete\": 4,\r\n    \"lime_concrete\": 5,\r\n    \"pink_concrete\": 6,\r\n    \"gray_concrete\": 7,\r\n    \"silver_concrete\": 8,\r\n    \"cyan_concrete\": 9,\r\n    \"purple_concrete\": 10,\r\n    \"blue_concrete\": 11,\r\n    \"brown_concrete\": 12,\r\n    \"green_concrete\": 13,\r\n    \"red_concrete\": 14,\r\n    \"black_concrete\": 15,\r\n  }\r\n\r\n  for key in colorDict:\r\n    if checkBlockFromAgent(key, direction):\r\n      agent.destroy(direction)\r\n      count = 0\r\n      if agent.get_item(1) == 'concrete':\r\n        count = agent.get_item_count(1)\r\n      \r\n      agent.give(('concrete', colorDict[key], \"\"), count + 1, colorDict[key])\r\n      break\r\n\r\ndef canPlaceColourBlock(slot: int, direction: enums.Direction):\r\n  check = [as_loc(209, 10, -284), as_loc(214, 10, -284), as_loc(219, 10, -284)]\r\n  canPlace = False\r\n\r\n  for c in check:\r\n    if (canPlaceBlock(c, direction)):\r\n        canPlace = True\r\n        break\r\n  \r\n  if (not canPlace):\r\n    player.whisper('I can\\'t place blocks here!')\r\n    return False\r\n\r\n  if (agent.get_item(slot) == 'concrete'):\r\n    if (agent.get_item_count(slot) > 0):\r\n      return True\r\n    else:\r\n      player.whisper('I don\\'t have the block to place!')\r\n      return False\r\n  else:\r\n    player.whisper('I don\\'t have the right blocks to place!')\r\n    return False\r\n\r\ndef placeColour(color: str, direction: enums.Direction):\r\n  checkPosition = as_loc(2212, 45, -302)\r\n  colorDict = {\r\n    \"white\": 0,\r\n    \"orange\": 1,\r\n    \"magenta\": 2,\r\n    \"light_blue\": 3\r\n    \"yellow\": 4,\r\n    \"lime\": 5,\r\n    \"pink\": 6,\r\n    \"gray\": 7,\r\n    \"light_gray\": 8,\r\n    \"cyan\": 9,\r\n    \"purple\": 10,\r\n    \"blue\": 11,\r\n    \"brown\": 12,\r\n    \"green\": 13,\r\n    \"red\": 14,\r\n    \"black\": 15,\r\n  }\r\n\r\n  slot = colorDict[color]\r\n  if (slot is undefined):\r\n    raise ValueError('Invalid color')\r\n\r\n  if canPlaceReceiver(slot):\r\n    agent.place(slot, direction)\r\n@user-code"
    }
   },
   "outputs": [],
   "source": [
    "distance = 2\n",
    "\n",
    "for i in range (3):\n",
    "    for i in range(distance):\n",
    "        agent.move(\"forward\")\n",
    "        pass\n",
    "    distance += 5\n",
    "    pass"
   ]
  }
 ],
 "metadata": {
  "kernelspec": {
   "display_name": "Python 3 (ipykernel)",
   "language": "python",
   "name": "python3"
  },
  "language_info": {
   "codemirror_mode": {
    "name": "ipython",
    "version": 3
   },
   "file_extension": ".py",
   "mimetype": "text/x-python",
   "name": "python",
   "nbconvert_exporter": "python",
   "pygments_lexer": "ipython3",
   "version": "3.9.1"
  },
  "minecraft": {
   "description": "Normal Task",
   "page_id": "1.0",
   "page_name": "Normal Task",
   "style": "minecraft.css"
  }
 },
 "nbformat": 4,
 "nbformat_minor": 5
}
